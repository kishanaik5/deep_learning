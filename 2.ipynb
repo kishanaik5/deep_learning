{
 "cells": [
  {
   "cell_type": "code",
   "execution_count": 3,
   "id": "a4a85b12",
   "metadata": {},
   "outputs": [],
   "source": [
    "import numpy as np\n",
    "import matplotlib.pyplot as plt"
   ]
  },
  {
   "cell_type": "code",
   "execution_count": 4,
   "id": "1c3b74e5",
   "metadata": {},
   "outputs": [],
   "source": [
    "def plot_sigmoid():\n",
    "    x = np.linspace(-10, 10, 100)\n",
    "    y = 1 / (1 + np.exp(-x))\n",
    "    plt.plot(x, y)\n",
    "    plt.xlabel('Input')\n",
    "    plt.ylabel('Sigmoid Output')\n",
    "    plt.title('Sigmoid Activation Function')\n",
    "    plt.grid(True)\n",
    "    plt.show()"
   ]
  },
  {
   "cell_type": "code",
   "execution_count": 5,
   "id": "21e8bf89",
   "metadata": {},
   "outputs": [],
   "source": [
    "def plot_tanh():\n",
    "    x = np.linspace(-10, 10, 100)\n",
    "    tanh = np.tanh(x)\n",
    "    plt.plot(x, tanh)\n",
    "    plt.title(\"Hyperbolic Tangent (tanh) Activation Function\")\n",
    "    plt.xlabel(\"x\")\n",
    "    plt.ylabel(\"tanh(x)\")\n",
    "    plt.grid(True)\n",
    "    plt.show()"
   ]
  },
  {
   "cell_type": "code",
   "execution_count": 6,
   "id": "e86d78fc",
   "metadata": {},
   "outputs": [],
   "source": [
    "def plot_relu():\n",
    "    x = np.linspace(-10, 10, 100)\n",
    "    relu = np.maximum(0, x)\n",
    "    plt.plot(x, relu)\n",
    "    plt.title(\"ReLU Activation Function\")\n",
    "    plt.xlabel(\"x\")\n",
    "    plt.ylabel(\"ReLU(x)\")\n",
    "    plt.grid(True)\n",
    "    plt.show()"
   ]
  },
  {
   "cell_type": "code",
   "execution_count": 7,
   "id": "94c6e2fd",
   "metadata": {},
   "outputs": [],
   "source": [
    "def plot_leaky_relu():\n",
    "    x = np.linspace(-10, 10, 100)\n",
    "    def leaky_relu(x, alpha=0.1):\n",
    "        return np.where(x >= 0, x, alpha * x)\n",
    "    leaky_relu_values = leaky_relu(x)\n",
    "    plt.plot(x, leaky_relu_values)\n",
    "    plt.title(\"Leaky ReLU Activation Function\")\n",
    "    plt.xlabel(\"x\")\n",
    "    plt.ylabel(\"Leaky ReLU(x)\")\n",
    "    plt.grid(True)\n",
    "    plt.show()"
   ]
  },
  {
   "cell_type": "code",
   "execution_count": 8,
   "id": "8f18ae25",
   "metadata": {},
   "outputs": [],
   "source": [
    "def softmax(z):\n",
    "    exp_z = np.exp(z - np.max(z))\n",
    "    return exp_z / exp_z.sum(axis=0)\n",
    "\n",
    "def plot_softmax(probabilities, class_labels):\n",
    "    plt.bar(class_labels, probabilities)\n",
    "    plt.xlabel(\"Class\")\n",
    "    plt.ylabel(\"Probability\")\n",
    "    plt.title(\"Softmax Output\")\n",
    "    plt.show()"
   ]
  },
  {
   "cell_type": "code",
   "execution_count": 9,
   "id": "7b7518ea",
   "metadata": {},
   "outputs": [],
   "source": [
    "def main():\n",
    "    while True:\n",
    "        print(\"\\nMAIN MENU\")\n",
    "        print(\"1. Sigmoid\")\n",
    "        print(\"2. Hyperbolic tangent\")\n",
    "        print(\"3. Rectified Linear Unit\")\n",
    "        print(\"4. Leaky ReLU\")\n",
    "        print(\"5. Softmax\")\n",
    "        print(\"6. Exit\")\n",
    "        \n",
    "        choice = int(input(\"Enter the Choice: \"))\n",
    "        \n",
    "        if choice == 1:\n",
    "            plot_sigmoid()\n",
    "        elif choice == 2:\n",
    "            plot_tanh()\n",
    "        elif choice == 3:\n",
    "            plot_relu()\n",
    "        elif choice == 4:\n",
    "            plot_leaky_relu()\n",
    "        elif choice == 5:\n",
    "            x = np.array([1, 2, 3])\n",
    "            class_labels = [\"Seal\", \"Panda\", \"Duck\"]\n",
    "            probabilities = softmax(x)\n",
    "            plot_softmax(probabilities, class_labels)\n",
    "        elif choice == 6:\n",
    "            break\n",
    "        else:\n",
    "            print(\"Oops! Incorrect Choice.\")"
   ]
  },
  {
   "cell_type": "code",
   "execution_count": 10,
   "id": "f24832e1",
   "metadata": {},
   "outputs": [
    {
     "name": "stdout",
     "output_type": "stream",
     "text": [
      "\n",
      "MAIN MENU\n",
      "1. Sigmoid\n",
      "2. Hyperbolic tangent\n",
      "3. Rectified Linear Unit\n",
      "4. Leaky ReLU\n",
      "5. Softmax\n",
      "6. Exit\n",
      "Enter the Choice: 1\n"
     ]
    },
    {
     "data": {
      "image/png": "[encoded data removed]",
      "text/plain": [
       "<Figure size 640x480 with 1 Axes>"
      ]
     },
     "metadata": {},
     "output_type": "display_data"
    },
    {
     "name": "stdout",
     "output_type": "stream",
     "text": [
      "\n",
      "MAIN MENU\n",
      "1. Sigmoid\n",
      "2. Hyperbolic tangent\n",
      "3. Rectified Linear Unit\n",
      "4. Leaky ReLU\n",
      "5. Softmax\n",
      "6. Exit\n",
      "Enter the Choice: 6\n"
     ]
    }
   ],
   "source": [
    "main()"
   ]
  }
 ],
 "metadata": {
  "kernelspec": {
   "display_name": "Python 3 (ipykernel)",
   "language": "python",
   "name": "python3"
  },
  "language_info": {
   "codemirror_mode": {
    "name": "ipython",
    "version": 3
   },
   "file_extension": ".py",
   "mimetype": "text/x-python",
   "name": "python",
   "nbconvert_exporter": "python",
   "pygments_lexer": "ipython3",
   "version": "3.10.9"
  }
 },
 "nbformat": 4,
 "nbformat_minor": 5
}
