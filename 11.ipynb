{
 "cells": [
  {
   "cell_type": "code",
   "execution_count": 1,
   "id": "3fa67961",
   "metadata": {},
   "outputs": [],
   "source": [
    "import tensorflow as tf\n",
    "from tensorflow.keras.preprocessing.sequence import pad_sequences\n",
    "from tensorflow.keras.datasets import imdb\n",
    "from tensorflow.keras.models import Sequential\n",
    "from tensorflow.keras.layers import Embedding, GRU, Dense, Dropout"
   ]
  },
  {
   "cell_type": "code",
   "execution_count": 2,
   "id": "eaf56cb0",
   "metadata": {},
   "outputs": [
    {
     "name": "stdout",
     "output_type": "stream",
     "text": [
      "Downloading data from https://storage.googleapis.com/tensorflow/tf-keras-datasets/imdb.npz\n",
      "17464789/17464789 [==============================] - 3s 0us/step\n"
     ]
    }
   ],
   "source": [
    "# Load and preprocess the dataset\n",
    "vocab_size = 10000\n",
    "max_length = 200\n",
    "\n",
    "(x_train, y_train), (x_test, y_test) = imdb.load_data(num_words=vocab_size)\n",
    "x_train = pad_sequences(x_train, maxlen=max_length)\n",
    "x_test = pad_sequences(x_test, maxlen=max_length)"
   ]
  },
  {
   "cell_type": "code",
   "execution_count": 3,
   "id": "5e44059c",
   "metadata": {},
   "outputs": [],
   "source": [
    "# Build and compile the model\n",
    "model = Sequential([\n",
    "    Embedding(vocab_size, 32, input_length=max_length),\n",
    "    GRU(64),\n",
    "    Dense(16, activation='relu'),\n",
    "    Dropout(0.5),\n",
    "    Dense(1, activation='sigmoid')\n",
    "])\n",
    "model.compile(optimizer='adam', loss='binary_crossentropy', metrics=['accuracy'])"
   ]
  },
  {
   "cell_type": "code",
   "execution_count": 4,
   "id": "f271105b",
   "metadata": {},
   "outputs": [
    {
     "name": "stdout",
     "output_type": "stream",
     "text": [
      "Epoch 1/10\n",
      "313/313 [==============================] - 40s 121ms/step - loss: 0.4974 - accuracy: 0.7469 - val_loss: 0.3416 - val_accuracy: 0.8516\n",
      "Epoch 2/10\n",
      "313/313 [==============================] - 34s 109ms/step - loss: 0.2810 - accuracy: 0.8963 - val_loss: 0.3142 - val_accuracy: 0.8750\n",
      "Epoch 3/10\n",
      "313/313 [==============================] - 34s 107ms/step - loss: 0.2079 - accuracy: 0.9301 - val_loss: 0.3247 - val_accuracy: 0.8752\n",
      "Epoch 4/10\n",
      "313/313 [==============================] - 34s 109ms/step - loss: 0.1680 - accuracy: 0.9462 - val_loss: 0.3544 - val_accuracy: 0.8600\n",
      "Epoch 5/10\n",
      "313/313 [==============================] - 34s 109ms/step - loss: 0.1377 - accuracy: 0.9549 - val_loss: 0.4435 - val_accuracy: 0.8740\n",
      "Epoch 6/10\n",
      "313/313 [==============================] - 33s 106ms/step - loss: 0.1081 - accuracy: 0.9661 - val_loss: 0.5519 - val_accuracy: 0.8614\n",
      "Epoch 7/10\n",
      "313/313 [==============================] - 35s 112ms/step - loss: 0.0878 - accuracy: 0.9741 - val_loss: 0.4995 - val_accuracy: 0.8718\n",
      "Epoch 8/10\n",
      "313/313 [==============================] - 34s 109ms/step - loss: 0.0605 - accuracy: 0.9819 - val_loss: 0.6026 - val_accuracy: 0.8648\n",
      "Epoch 9/10\n",
      "313/313 [==============================] - 34s 109ms/step - loss: 0.0377 - accuracy: 0.9908 - val_loss: 0.7190 - val_accuracy: 0.8644\n",
      "Epoch 10/10\n",
      "313/313 [==============================] - 34s 109ms/step - loss: 0.0345 - accuracy: 0.9898 - val_loss: 0.7688 - val_accuracy: 0.8602\n",
      "782/782 [==============================] - 16s 20ms/step - loss: 0.8012 - accuracy: 0.8545\n",
      "Test Loss: 0.8012190461158752, Test Accuracy: 0.8544800281524658\n"
     ]
    }
   ],
   "source": [
    "# Train and evaluate the model\n",
    "model.fit(x_train, y_train, epochs=10, batch_size=64, validation_split=0.2)\n",
    "test_loss, test_accuracy = model.evaluate(x_test, y_test)\n",
    "print(f'Test Loss: {test_loss}, Test Accuracy: {test_accuracy}')"
   ]
  },
  {
   "cell_type": "code",
   "execution_count": 5,
   "id": "7f73d3df",
   "metadata": {},
   "outputs": [],
   "source": [
    "# Example prediction function\n",
    "def predict_sentiment(text):\n",
    "    tokens = tf.keras.preprocessing.text.text_to_word_sequence(text)\n",
    "    tokens_index = imdb.get_word_index()\n",
    "    tokens_padded = pad_sequences([[tokens_index.get(word, 0) for word in tokens]], maxlen=max_length)\n",
    "    prediction = model.predict(tokens_padded)\n",
    "    sentiment = 'positive' if prediction >= 0.5 else 'negative'\n",
    "    return sentiment"
   ]
  },
  {
   "cell_type": "code",
   "execution_count": 6,
   "id": "de98aeaf",
   "metadata": {},
   "outputs": [
    {
     "name": "stdout",
     "output_type": "stream",
     "text": [
      "Downloading data from https://storage.googleapis.com/tensorflow/tf-keras-datasets/imdb_word_index.json\n",
      "1641221/1641221 [==============================] - 0s 0us/step\n",
      "1/1 [==============================] - 1s 514ms/step\n",
      "Sentiment: positive\n"
     ]
    }
   ],
   "source": [
    "# Example prediction\n",
    "new_review = \"The movie was fantastic and I loved it\"\n",
    "print(f'Sentiment: {predict_sentiment(new_review)}')"
   ]
  }
 ],
 "metadata": {
  "kernelspec": {
   "display_name": "Python 3 (ipykernel)",
   "language": "python",
   "name": "python3"
  },
  "language_info": {
   "codemirror_mode": {
    "name": "ipython",
    "version": 3
   },
   "file_extension": ".py",
   "mimetype": "text/x-python",
   "name": "python",
   "nbconvert_exporter": "python",
   "pygments_lexer": "ipython3",
   "version": "3.10.9"
  }
 },
 "nbformat": 4,
 "nbformat_minor": 5
}
