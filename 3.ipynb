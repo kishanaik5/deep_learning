{
 "cells": [
  {
   "cell_type": "code",
   "execution_count": 2,
   "id": "7dc87f76",
   "metadata": {},
   "outputs": [],
   "source": [
    "import numpy as np"
   ]
  },
  {
   "cell_type": "code",
   "execution_count": 22,
   "id": "fb7c7736",
   "metadata": {},
   "outputs": [],
   "source": [
    "class perceptron:\n",
    "    def __init__(self, weights=None, bias=0):\n",
    "        self.weights = weights\n",
    "        self.bias = bias\n",
    "        \n",
    "    def initialize(self, n_features):\n",
    "        if self.weights is None:\n",
    "            self.weights = np.zeros(n_features)\n",
    "        if self.bias is None:\n",
    "            self.bias = 0\n",
    "        return\n",
    "        \n",
    "    def predict(self, inputs):\n",
    "        activation = np.dot(inputs, self.weights) + self.bias\n",
    "        return 1 if activation > 0 else 0\n",
    "    \n",
    "    def train(self, X,y, epochs =100, learning_rate =0.1):\n",
    "        self.initialize(X.shape[1])\n",
    "        for epoch in range(epochs):\n",
    "            for inputs, labels in zip(X,y):\n",
    "                y_pred = self.predict(inputs)\n",
    "                error = labels - y_pred\n",
    "                self.weights += learning_rate*error*inputs\n",
    "                self.bias += learning_rate * error\n",
    "        return \n",
    "            \n",
    "    "
   ]
  },
  {
   "cell_type": "code",
   "execution_count": 23,
   "id": "ee82aef0",
   "metadata": {},
   "outputs": [
    {
     "name": "stdout",
     "output_type": "stream",
     "text": [
      "Prediction 0\n",
      "Accuracy: 100.0\n"
     ]
    }
   ],
   "source": [
    "    X_train = np.array([[0,0,1],[0,1,1],[1,0,1],[1,1,1]])\n",
    "    y_train = np.array([0,0,0,1])\n",
    "    custom_weights = np.array([0.2,0.4,0.6])\n",
    "    custom_bias = -0.5\n",
    "    \n",
    "    p = perceptron(weights = custom_weights, bias= custom_bias)\n",
    "    p.train(X_train, y_train, epochs =100, learning_rate=0.1)\n",
    "    \n",
    "    test_input = np.array([0,1,1])\n",
    "    print(\"Prediction\", p.predict(test_input))\n",
    "    \n",
    "    X_test = np.array([[0,0,1],[0,1,1],[1,0,1],[1,1,1]])\n",
    "    y_test = np.array([0,0,0,1])\n",
    "    \n",
    "    predict = np.array([p.predict(x) for x in X_test])\n",
    "    \n",
    "    accuracy = np.mean(predict == y_test)*100\n",
    "    \n",
    "    print(\"Accuracy:\", accuracy)\n",
    "    "
   ]
  }
 ],
 "metadata": {
  "kernelspec": {
   "display_name": "Python 3 (ipykernel)",
   "language": "python",
   "name": "python3"
  },
  "language_info": {
   "codemirror_mode": {
    "name": "ipython",
    "version": 3
   },
   "file_extension": ".py",
   "mimetype": "text/x-python",
   "name": "python",
   "nbconvert_exporter": "python",
   "pygments_lexer": "ipython3",
   "version": "3.10.9"
  }
 },
 "nbformat": 4,
 "nbformat_minor": 5
}
