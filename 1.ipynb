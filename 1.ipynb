{
 "cells": [
  {
   "cell_type": "code",
   "execution_count": 1,
   "id": "486750e5",
   "metadata": {},
   "outputs": [],
   "source": [
    "import numpy as np\n",
    "\n",
    "def hebbian_learning_rule(input_pattern, weight_matrix):\n",
    "    return weight_matrix + np.outer(input_pattern, input_pattern)"
   ]
  },
  {
   "cell_type": "code",
   "execution_count": 2,
   "id": "8297429e",
   "metadata": {},
   "outputs": [],
   "source": [
    "def perceptron_learning_rule(input_pattern, target, weight_vector, learning_rate):\n",
    "    prediction = np.dot(weight_vector,input_pattern)\n",
    "    error = target-prediction\n",
    "    return weight_vector+learning_rate*error*input_pattern"
   ]
  },
  {
   "cell_type": "code",
   "execution_count": 3,
   "id": "5d2400cd",
   "metadata": {},
   "outputs": [],
   "source": [
    "def delta_learning_rule(input_pattern, target, weight_matrix, learning_rate):\n",
    "    prediction = np.dot(weight_matrix, input_pattern)\n",
    "    error = target - prediction\n",
    "    return weight_matrix + learning_rate*error*input_pattern"
   ]
  },
  {
   "cell_type": "code",
   "execution_count": 11,
   "id": "14ccd0e7",
   "metadata": {},
   "outputs": [],
   "source": [
    "def correlation_learning_rule(input_pattern, weight_matrix):\n",
    "    return weight_matrix+np.outer(input_pattern, input_pattern)\n",
    "\n",
    "def out_star_learning_rule(input_pattern, weight_matrix, learning_rate):\n",
    "    return weight_matrix + learning_rate*np.outer(input_pattern,input_pattern)"
   ]
  },
  {
   "cell_type": "code",
   "execution_count": 12,
   "id": "ef0d1adf",
   "metadata": {},
   "outputs": [
    {
     "name": "stdout",
     "output_type": "stream",
     "text": [
      "\n",
      "\n",
      "[[0.51359718 0.43827307 0.96263276]\n",
      " [0.60134248 0.9443014  0.44131815]\n",
      " [0.12156072 0.44360268 0.61077013]]\n",
      "\n",
      "\n",
      "[0.88455759 0.50637115 0.22248692]\n",
      "\n",
      "\n",
      "[[0.58119623 0.87071805 0.4379669 ]\n",
      " [0.2995975  0.92872    0.79243131]\n",
      " [0.74733134 0.48300108 0.83450074]]\n",
      "\n",
      "\n",
      "[[0.75563647 0.64354957 0.73638128]\n",
      " [0.18998525 0.39949435 0.89658666]\n",
      " [0.4476257  0.07775571 0.17745207]]\n",
      "\n",
      "\n",
      "[[0.33876448 0.73666726 0.56153316]\n",
      " [0.39361405 0.29784293 0.98275428]\n",
      " [0.13781052 0.38535959 0.42893106]]\n",
      "\n",
      "\n"
     ]
    }
   ],
   "source": [
    "input_size = 3\n",
    "hebbian_weights = np.random.rand(input_size, input_size)\n",
    "perceptron_weights = np.random.rand(input_size)\n",
    "delta_weights = np.random.rand(input_size, input_size)\n",
    "correlation_weights = np.random.rand(input_size, input_size)\n",
    "out_star_weights = np.random.rand(input_size,input_size)\n",
    "print(\"\\n\")\n",
    "print(hebbian_weights)\n",
    "print(\"\\n\")\n",
    "print(perceptron_weights)\n",
    "print(\"\\n\")\n",
    "print(delta_weights)\n",
    "print(\"\\n\")\n",
    "print(correlation_weights)\n",
    "print(\"\\n\")\n",
    "print(out_star_weights)\n",
    "print(\"\\n\")"
   ]
  },
  {
   "cell_type": "code",
   "execution_count": 13,
   "id": "82ee1e58",
   "metadata": {},
   "outputs": [],
   "source": [
    "input_pattern = np.array([0.2,0.5,0.8])\n",
    "target = 1\n",
    "\n",
    "hebbian_update = hebbian_learning_rule(input_pattern, hebbian_weights)\n",
    "perceptron_update = perceptron_learning_rule(input_pattern, target, perceptron_weights, learning_rate=0.1)\n",
    "delta_update = delta_learning_rule(input_pattern, target, delta_weights, learning_rate=0.1)\n",
    "correlation_update = correlation_learning_rule(input_pattern, correlation_weights)\n",
    "out_star_update = out_star_learning_rule(input_pattern, out_star_weights, learning_rate=0.1)\n"
   ]
  },
  {
   "cell_type": "code",
   "execution_count": 14,
   "id": "cb68cec6",
   "metadata": {},
   "outputs": [
    {
     "name": "stdout",
     "output_type": "stream",
     "text": [
      "\n",
      "\n",
      "[[0.55359718 0.53827307 1.12263276]\n",
      " [0.70134248 1.1943014  0.84131815]\n",
      " [0.28156072 0.84360268 1.25077013]]\n",
      "\n",
      "\n",
      "[0.89239586 0.52596682 0.25383999]\n",
      "\n",
      "\n",
      "[[0.5831568  0.86280682 0.43328151]\n",
      " [0.30155807 0.92080877 0.78774591]\n",
      " [0.7492919  0.47508985 0.82981535]]\n",
      "\n",
      "\n",
      "[[0.79563647 0.74354957 0.89638128]\n",
      " [0.28998525 0.64949435 1.29658666]\n",
      " [0.6076257  0.47775571 0.81745207]]\n",
      "\n",
      "\n",
      "[[0.34276448 0.74666726 0.57753316]\n",
      " [0.40361405 0.32284293 1.02275428]\n",
      " [0.15381052 0.42535959 0.49293106]]\n",
      "\n",
      "\n"
     ]
    }
   ],
   "source": [
    "print(\"\\n\")\n",
    "print(hebbian_update)\n",
    "print(\"\\n\")\n",
    "print(perceptron_update)\n",
    "print(\"\\n\")\n",
    "print(delta_update)\n",
    "print(\"\\n\")\n",
    "print(correlation_update)\n",
    "print(\"\\n\")\n",
    "print(out_star_update)\n",
    "print(\"\\n\")"
   ]
  }
 ],
 "metadata": {
  "kernelspec": {
   "display_name": "Python 3 (ipykernel)",
   "language": "python",
   "name": "python3"
  },
  "language_info": {
   "codemirror_mode": {
    "name": "ipython",
    "version": 3
   },
   "file_extension": ".py",
   "mimetype": "text/x-python",
   "name": "python",
   "nbconvert_exporter": "python",
   "pygments_lexer": "ipython3",
   "version": "3.10.9"
  }
 },
 "nbformat": 4,
 "nbformat_minor": 5
}
